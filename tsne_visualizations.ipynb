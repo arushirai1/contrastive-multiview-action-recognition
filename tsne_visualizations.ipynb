{
 "cells": [
  {
   "cell_type": "markdown",
   "metadata": {},
   "source": [
    "# Table Of Contents\n",
    "\n",
    "Representations learned from Contrastive Learning before Supervised Fine-Tuning\n",
    "\n",
    "Click to Skip to Histograms Aggregating the Following Attributes:\n",
    "\n",
    "* [Scene](#Scene-Counts-Per-Cluster)\n",
    "* [Action](#Action-Class-Counts-Per-Cluster)\n",
    "* [Person ID](#Person-ID-Counts-Per-Cluster)\n"
   ]
  },
  {
   "cell_type": "code",
   "execution_count": 117,
   "metadata": {},
   "outputs": [
    {
     "data": {
      "text/plain": [
       "253"
      ]
     },
     "execution_count": 117,
     "metadata": {},
     "output_type": "execute_result"
    }
   ],
   "source": [
    "import os\n",
    "import numpy as np\n",
    "\n",
    "with open('experiments.txt', 'r') as f:\n",
    "    experiments=[line.split('\\n')[0] for line in f]\n",
    "len(experiments)"
   ]
  },
  {
   "cell_type": "code",
   "execution_count": 2,
   "metadata": {},
   "outputs": [],
   "source": [
    "### PARAMS ####\n",
    "contrastive = True\n",
    "pre_fine_tuning = True"
   ]
  },
  {
   "cell_type": "code",
   "execution_count": 3,
   "metadata": {},
   "outputs": [
    {
     "data": {
      "text/plain": [
       "<All keys matched successfully>"
      ]
     },
     "execution_count": 3,
     "metadata": {},
     "output_type": "execute_result"
    }
   ],
   "source": [
    "import torch\n",
    "# load models\n",
    "from models import video_resnet, contrastive_model\n",
    "\n",
    "def _init_backbone(num_classes):\n",
    "    model = video_resnet.r3d_18(num_classes=num_classes, endpoint='fc', positional_flag = 1)\n",
    "    return model\n",
    "\n",
    "def build_mlp(in_features, repr_size):\n",
    "    import torch.nn as nn\n",
    "    hidden = nn.Linear(in_features=in_features, out_features=in_features)\n",
    "    output_layer = nn.Linear(in_features=in_features, out_features=repr_size)\n",
    "\n",
    "    return nn.Sequential(hidden, nn.ReLU(), output_layer)\n",
    "\n",
    "if contrastive:\n",
    "    base_model = contrastive_model.ContrastiveModel(_init_backbone, repr_size=128, visualizations=pre_fine_tuning)\n",
    "    #exp_name = 'cv_same_timepoint_eval_single_clip_100contrastive_endpoint_A_finetune_TrueFalse'\n",
    "    exp_name = 'cross_view_contrastive_same_timepointresnet3D1832128_False_clips_1_lr_0.02augmentFalse'\n",
    "    if not pre_fine_tuning:\n",
    "        base_model.eval_finetune(finetune=True, endpoint='A', num_classes=60)\n",
    "\n",
    "else:\n",
    "    base_model = video_resnet.r3d_18(endpoint='fc', positional_flag = 1)\n",
    "    exp_name = 'supervised_CV_10resnet3D181616_False_clips_1_gru_False_CS_False'\n",
    "loaded_model = torch.load(f'./results/{exp_name}/model_best.pth.tar')\n",
    "if not contrastive and not pre_fine_tuning:\n",
    "    print(loaded_model['best_acc'])\n",
    "base_model.load_state_dict(loaded_model['state_dict'])"
   ]
  },
  {
   "cell_type": "code",
   "execution_count": 4,
   "metadata": {},
   "outputs": [],
   "source": [
    "### PARAMS FOR VISUALIZATION ###\n",
    "view_only_viz = False\n",
    "number_samples = 50\n",
    "num_limited_targets = 20"
   ]
  },
  {
   "cell_type": "code",
   "execution_count": 5,
   "metadata": {},
   "outputs": [],
   "source": [
    "from torchvision import transforms\n",
    "import pickle\n",
    "from Data.spatial_transforms import (\n",
    "    Compose, Normalize, Scale, CenterCrop, CornerCrop, MultiScaleCornerCrop,\n",
    "    MultiScaleRandomCrop, RandomHorizontalFlip, ToTensor)\n",
    "from Data.NTUARD_Dataset_Train import NTUARD_TRAIN\n",
    "\n",
    "# old getter\n",
    "def get_ntuard(root='Data', frames_path='/datasets/NTU-ARD/frames-240x135', num_clips=1, cross_subject=False, norm=True):\n",
    "\n",
    "    normal_mean = (0.5, 0.5, 0.5)\n",
    "    normal_std = (0.5, 0.5, 0.5)\n",
    "    \n",
    "    ## augmentations\n",
    "    crop_scales = [1.0]\n",
    "    for _ in range(1, 5):\n",
    "        crop_scales.append(crop_scales[-1] * 0.84089641525)  ##smallest scale is 0.5\n",
    "\n",
    "    transformations = [Scale(136), CenterCrop(112), ToTensor(1)]\n",
    "    #transformations = [ToTensor(1)]\n",
    "\n",
    "    if norm:\n",
    "        transformations.append(transforms.Normalize(mean=normal_mean, std=normal_std))\n",
    "    transform_train = Compose(transformations)\n",
    "\n",
    "    transform_val = Compose(transformations)\n",
    "\n",
    "    train_dataset = NTUARD_TRAIN(root=root, train=True, fold=1, cross_subject=cross_subject, transform=transform_train,\n",
    "                                 num_clips=num_clips, frames_path=frames_path, args=None, pseudo_label=False)\n",
    "    test_dataset = NTUARD_TRAIN(root=root, train=False, fold=1, cross_subject=cross_subject, transform=transform_val, num_clips=num_clips, frames_path=frames_path, args=None)\n",
    "\n",
    "    return train_dataset, test_dataset\n",
    "\n",
    "# get data\n",
    "train_dataset, test_dataset = get_ntuard('Data', num_clips=1, cross_subject=False)"
   ]
  },
  {
   "cell_type": "code",
   "execution_count": 6,
   "metadata": {},
   "outputs": [],
   "source": [
    "itemize_index_by_target = {i:[] for i in range(1,61)}\n",
    "\n",
    "for i, target in enumerate(test_dataset.targets):\n",
    "    if target <= num_limited_targets:\n",
    "        itemize_index_by_target[target].append(i)"
   ]
  },
  {
   "cell_type": "markdown",
   "metadata": {},
   "source": [
    "# T-SNE Visualizations "
   ]
  },
  {
   "cell_type": "code",
   "execution_count": 7,
   "metadata": {},
   "outputs": [],
   "source": [
    "import numpy as np\n",
    "sampled_targets = []\n",
    "for indicies in itemize_index_by_target.values():\n",
    "    if len(indicies) > 0:\n",
    "        sampled_targets.extend(np.random.choice(indicies, number_samples))"
   ]
  },
  {
   "cell_type": "code",
   "execution_count": 77,
   "metadata": {},
   "outputs": [],
   "source": [
    "import psutil\n",
    "\n",
    "class NTUARD_MetaData:\n",
    "    def __init__(self, scene, action, pid, rid, view):\n",
    "        self.scene=scene\n",
    "        self.action=action\n",
    "        self.pid=pid\n",
    "        self.rid=rid\n",
    "        self.view=view\n",
    "\n",
    "base_model.fc = None\n",
    "base_model.eval_mode = None\n",
    "base_model.cuda()\n",
    "representations = []\n",
    "respective_targets = []\n",
    "meta_data = []\n",
    "\n",
    "base_model.eval()\n",
    "for counter, i in enumerate(sampled_targets):\n",
    "    data, target = test_dataset.__getitem__(i)\n",
    "    other_metadata, view = test_dataset.video_paths[i]['path'].split(\"/\")[-2:]\n",
    "    scene, pid, rid, action = test_dataset._decrypt_vid_name(other_metadata)\n",
    "    meta_data.append(NTUARD_MetaData(scene, action, pid, rid, int(view)))\n",
    "    respective_targets.append(target)\n",
    "    with torch.no_grad():\n",
    "        representations.append(base_model(data.cuda()).squeeze().cpu().numpy())        "
   ]
  },
  {
   "cell_type": "code",
   "execution_count": null,
   "metadata": {},
   "outputs": [],
   "source": []
  },
  {
   "cell_type": "code",
   "execution_count": 78,
   "metadata": {},
   "outputs": [],
   "source": [
    "representations = np.array(representations)"
   ]
  },
  {
   "cell_type": "code",
   "execution_count": 79,
   "metadata": {
    "scrolled": true
   },
   "outputs": [
    {
     "data": {
      "text/plain": [
       "(1000, 128)"
      ]
     },
     "execution_count": 79,
     "metadata": {},
     "output_type": "execute_result"
    }
   ],
   "source": [
    "from sklearn.manifold import TSNE\n",
    "from sklearn.decomposition import PCA\n",
    "%matplotlib inline\n",
    "import matplotlib.pyplot as plt\n",
    "from mpl_toolkits.mplot3d import Axes3D\n",
    "import seaborn as sns\n",
    "import random\n",
    "import numpy as np\n",
    "\n",
    "seed = 10\n",
    "random.seed(seed)\n",
    "torch.manual_seed(seed)\n",
    "np.random.seed(seed)\n",
    "\n",
    "#pca = PCA(n_components=50)\n",
    "#pca_result = pca.fit_transform(representations)\n",
    "\n",
    "#TSNE(2)\n",
    "representations.shape"
   ]
  },
  {
   "cell_type": "code",
   "execution_count": 80,
   "metadata": {},
   "outputs": [],
   "source": [
    "#print(pca_result.shape)\n",
    "tsne = TSNE(n_components=2).fit_transform(representations)\n"
   ]
  },
  {
   "cell_type": "code",
   "execution_count": 81,
   "metadata": {},
   "outputs": [],
   "source": [
    "# SOURCE: https://learnopencv.com/t-sne-for-feature-visualization/\n",
    "# scale and move the coordinates so they fit [0; 1] range\n",
    "def scale_to_01_range(x):\n",
    "    # compute the distribution range\n",
    "    value_range = (np.max(x) - np.min(x))\n",
    "    # move the distribution so that it starts from zero\n",
    "    # by extracting the minimal value from all its values\n",
    "    starts_from_zero = x - np.min(x)\n",
    "    # make the distribution fit [0; 1] by dividing by its range\n",
    "    return starts_from_zero / value_range\n",
    " \n",
    "# extract x and y coordinates representing the positions of the images on T-SNE plot\n",
    "tx = tsne[:, 0]\n",
    "ty = tsne[:, 1]\n",
    " \n",
    "tx = scale_to_01_range(tx)\n",
    "ty = scale_to_01_range(ty)\n"
   ]
  },
  {
   "cell_type": "code",
   "execution_count": 135,
   "metadata": {},
   "outputs": [
    {
     "data": {
      "image/png": "[encoded data removed]",
      "text/plain": [
       "<Figure size 432x288 with 1 Axes>"
      ]
     },
     "metadata": {
      "needs_background": "light"
     },
     "output_type": "display_data"
    },
    {
     "data": {
      "image/png": "[encoded data removed]",
      "text/plain": [
       "<Figure size 720x72 with 1 Axes>"
      ]
     },
     "metadata": {
      "needs_background": "light"
     },
     "output_type": "display_data"
    }
   ],
   "source": [
    "# SOURCE: https://learnopencv.com/t-sne-for-feature-visualization/\n",
    "import warnings\n",
    "warnings.filterwarnings( \"ignore\", module = \"color\\..*\" )\n",
    "\n",
    "fig = plt.figure()\n",
    "ax = fig.add_subplot(111)\n",
    "sns.palplot(sns.color_palette(\"muted\"))\n",
    "rgb_values = sns.color_palette(\"husl\", num_limited_targets)\n",
    "colors_per_class = dict(zip(list(range(1,num_limited_targets+1)), rgb_values))\n",
    "# for every class, we'll add a scatter plot separately\n",
    "idx = 0\n",
    "for label in colors_per_class:\n",
    "    if idx == num_limited_targets:\n",
    "        break\n",
    "    else:\n",
    "        idx+=1\n",
    "    # find the samples of the current class in the data\n",
    "    indices = [i for i, l in enumerate(respective_targets) if l == label]\n",
    "    # extract the coordinates of the points of this class only\n",
    "    current_tx = np.take(tx, indices)\n",
    "    current_ty = np.take(ty, indices)\n",
    "    # convert the class color to matplotlib format\n",
    "    color = colors_per_class[label]\n",
    "    # add a scatter plot with the corresponding color and label\n",
    "    ax.scatter(current_tx, current_ty, color=color, label=label)\n",
    "\n",
    "# build a legend using the labels we set previously\n",
    "ax.legend(loc='best')\n",
    " \n",
    "# finally, show the plot\n",
    "plt.show()"
   ]
  },
  {
   "cell_type": "markdown",
   "metadata": {},
   "source": [
    "# Clustering the representations and Meta Data Histograms"
   ]
  },
  {
   "cell_type": "code",
   "execution_count": 109,
   "metadata": {},
   "outputs": [
    {
     "data": {
      "text/plain": [
       "1000"
      ]
     },
     "execution_count": 109,
     "metadata": {},
     "output_type": "execute_result"
    }
   ],
   "source": [
    "from sklearn.cluster import KMeans\n",
    "kmeans_model = KMeans(n_clusters=13, random_state=1).fit(tsne)\n",
    "labels = kmeans_model.labels_\n",
    "\n",
    "len(labels)"
   ]
  },
  {
   "cell_type": "code",
   "execution_count": 110,
   "metadata": {},
   "outputs": [
    {
     "data": {
      "text/plain": [
       "1000"
      ]
     },
     "execution_count": 110,
     "metadata": {},
     "output_type": "execute_result"
    }
   ],
   "source": [
    "len(meta_data)"
   ]
  },
  {
   "cell_type": "code",
   "execution_count": 112,
   "metadata": {},
   "outputs": [],
   "source": [
    "#histogram\n",
    "def get_subset_arr(arr, label, d):\n",
    "    indicies = d[label]\n",
    "    return [arr[i] for i in indicies]\n",
    "\n",
    "indicies_per_cluster_label = {l:[] for l in set(labels)}\n",
    "for i, label in enumerate(labels):\n",
    "    indicies_per_cluster_label[label].append(i)\n"
   ]
  },
  {
   "cell_type": "markdown",
   "metadata": {},
   "source": [
    "## Scene Counts Per Cluster"
   ]
  },
  {
   "cell_type": "code",
   "execution_count": 113,
   "metadata": {},
   "outputs": [
    {
     "name": "stdout",
     "output_type": "stream",
     "text": [
      "Cluster 0\n"
     ]
    },
    {
     "data": {
      "image/png": "[encoded data removed]",
      "text/plain": [
       "<Figure size 432x288 with 1 Axes>"
      ]
     },
     "metadata": {
      "needs_background": "light"
     },
     "output_type": "display_data"
    },
    {
     "name": "stdout",
     "output_type": "stream",
     "text": [
      "Cluster 1\n"
     ]
    },
    {
     "data": {
      "image/png": "[encoded data removed]",
      "text/plain": [
       "<Figure size 432x288 with 1 Axes>"
      ]
     },
     "metadata": {
      "needs_background": "light"
     },
     "output_type": "display_data"
    },
    {
     "name": "stdout",
     "output_type": "stream",
     "text": [
      "Cluster 2\n"
     ]
    },
    {
     "data": {
      "image/png": "[encoded data removed]",
      "text/plain": [
       "<Figure size 432x288 with 1 Axes>"
      ]
     },
     "metadata": {
      "needs_background": "light"
     },
     "output_type": "display_data"
    },
    {
     "name": "stdout",
     "output_type": "stream",
     "text": [
      "Cluster 3\n"
     ]
    },
    {
     "data": {
      "image/png": "[encoded data removed]",
      "text/plain": [
       "<Figure size 432x288 with 1 Axes>"
      ]
     },
     "metadata": {
      "needs_background": "light"
     },
     "output_type": "display_data"
    },
    {
     "name": "stdout",
     "output_type": "stream",
     "text": [
      "Cluster 4\n"
     ]
    },
    {
     "data": {
      "image/png": "[encoded data removed]",
      "text/plain": [
       "<Figure size 432x288 with 1 Axes>"
      ]
     },
     "metadata": {
      "needs_background": "light"
     },
     "output_type": "display_data"
    },
    {
     "name": "stdout",
     "output_type": "stream",
     "text": [
      "Cluster 5\n"
     ]
    },
    {
     "data": {
      "image/png": "[encoded data removed]",
      "text/plain": [
       "<Figure size 432x288 with 1 Axes>"
      ]
     },
     "metadata": {
      "needs_background": "light"
     },
     "output_type": "display_data"
    },
    {
     "name": "stdout",
     "output_type": "stream",
     "text": [
      "Cluster 6\n"
     ]
    },
    {
     "data": {
      "image/png": "[encoded data removed]",
      "text/plain": [
       "<Figure size 432x288 with 1 Axes>"
      ]
     },
     "metadata": {
      "needs_background": "light"
     },
     "output_type": "display_data"
    },
    {
     "name": "stdout",
     "output_type": "stream",
     "text": [
      "Cluster 7\n"
     ]
    },
    {
     "data": {
      "image/png": "[encoded data removed]",
      "text/plain": [
       "<Figure size 432x288 with 1 Axes>"
      ]
     },
     "metadata": {
      "needs_background": "light"
     },
     "output_type": "display_data"
    },
    {
     "name": "stdout",
     "output_type": "stream",
     "text": [
      "Cluster 8\n"
     ]
    },
    {
     "data": {
      "image/png": "[encoded data removed]",
      "text/plain": [
       "<Figure size 432x288 with 1 Axes>"
      ]
     },
     "metadata": {
      "needs_background": "light"
     },
     "output_type": "display_data"
    },
    {
     "name": "stdout",
     "output_type": "stream",
     "text": [
      "Cluster 9\n"
     ]
    },
    {
     "data": {
      "image/png": "[encoded data removed]",
      "text/plain": [
       "<Figure size 432x288 with 1 Axes>"
      ]
     },
     "metadata": {
      "needs_background": "light"
     },
     "output_type": "display_data"
    },
    {
     "name": "stdout",
     "output_type": "stream",
     "text": [
      "Cluster 10\n"
     ]
    },
    {
     "data": {
      "image/png": "[encoded data removed]",
      "text/plain": [
       "<Figure size 432x288 with 1 Axes>"
      ]
     },
     "metadata": {
      "needs_background": "light"
     },
     "output_type": "display_data"
    },
    {
     "name": "stdout",
     "output_type": "stream",
     "text": [
      "Cluster 11\n"
     ]
    },
    {
     "data": {
      "image/png": "[encoded data removed]",
      "text/plain": [
       "<Figure size 432x288 with 1 Axes>"
      ]
     },
     "metadata": {
      "needs_background": "light"
     },
     "output_type": "display_data"
    },
    {
     "name": "stdout",
     "output_type": "stream",
     "text": [
      "Cluster 12\n"
     ]
    },
    {
     "data": {
      "image/png": "[encoded data removed]",
      "text/plain": [
       "<Figure size 432x288 with 1 Axes>"
      ]
     },
     "metadata": {
      "needs_background": "light"
     },
     "output_type": "display_data"
    }
   ],
   "source": [
    "for cluster_label in indicies_per_cluster_label.keys():\n",
    "    print(\"Cluster\", cluster_label)\n",
    "    sns.histplot([m.scene for i, m in \\\n",
    "                  enumerate(get_subset_arr(meta_data, cluster_label, \\\n",
    "                                           indicies_per_cluster_label))] , discrete=1, stat=\"count\", binrange=(0,13))\n",
    "    plt.show()\n"
   ]
  },
  {
   "cell_type": "markdown",
   "metadata": {},
   "source": [
    "## Action Class Counts Per Cluster"
   ]
  },
  {
   "cell_type": "code",
   "execution_count": 114,
   "metadata": {},
   "outputs": [
    {
     "name": "stdout",
     "output_type": "stream",
     "text": [
      "Cluster 0\n"
     ]
    },
    {
     "data": {
      "image/png": "[encoded data removed]",
      "text/plain": [
       "<Figure size 432x288 with 1 Axes>"
      ]
     },
     "metadata": {
      "needs_background": "light"
     },
     "output_type": "display_data"
    },
    {
     "name": "stdout",
     "output_type": "stream",
     "text": [
      "Cluster 1\n"
     ]
    },
    {
     "data": {
      "image/png": "[encoded data removed]",
      "text/plain": [
       "<Figure size 432x288 with 1 Axes>"
      ]
     },
     "metadata": {
      "needs_background": "light"
     },
     "output_type": "display_data"
    },
    {
     "name": "stdout",
     "output_type": "stream",
     "text": [
      "Cluster 2\n"
     ]
    },
    {
     "data": {
      "image/png": "[encoded data removed]",
      "text/plain": [
       "<Figure size 432x288 with 1 Axes>"
      ]
     },
     "metadata": {
      "needs_background": "light"
     },
     "output_type": "display_data"
    },
    {
     "name": "stdout",
     "output_type": "stream",
     "text": [
      "Cluster 3\n"
     ]
    },
    {
     "data": {
      "image/png": "[encoded data removed]",
      "text/plain": [
       "<Figure size 432x288 with 1 Axes>"
      ]
     },
     "metadata": {
      "needs_background": "light"
     },
     "output_type": "display_data"
    },
    {
     "name": "stdout",
     "output_type": "stream",
     "text": [
      "Cluster 4\n"
     ]
    },
    {
     "data": {
      "image/png": "[encoded data removed]",
      "text/plain": [
       "<Figure size 432x288 with 1 Axes>"
      ]
     },
     "metadata": {
      "needs_background": "light"
     },
     "output_type": "display_data"
    },
    {
     "name": "stdout",
     "output_type": "stream",
     "text": [
      "Cluster 5\n"
     ]
    },
    {
     "data": {
      "image/png": "[encoded data removed]",
      "text/plain": [
       "<Figure size 432x288 with 1 Axes>"
      ]
     },
     "metadata": {
      "needs_background": "light"
     },
     "output_type": "display_data"
    },
    {
     "name": "stdout",
     "output_type": "stream",
     "text": [
      "Cluster 6\n"
     ]
    },
    {
     "data": {
      "image/png": "[encoded data removed]",
      "text/plain": [
       "<Figure size 432x288 with 1 Axes>"
      ]
     },
     "metadata": {
      "needs_background": "light"
     },
     "output_type": "display_data"
    },
    {
     "name": "stdout",
     "output_type": "stream",
     "text": [
      "Cluster 7\n"
     ]
    },
    {
     "data": {
      "image/png": "[encoded data removed]",
      "text/plain": [
       "<Figure size 432x288 with 1 Axes>"
      ]
     },
     "metadata": {
      "needs_background": "light"
     },
     "output_type": "display_data"
    },
    {
     "name": "stdout",
     "output_type": "stream",
     "text": [
      "Cluster 8\n"
     ]
    },
    {
     "data": {
      "image/png": "[encoded data removed]",
      "text/plain": [
       "<Figure size 432x288 with 1 Axes>"
      ]
     },
     "metadata": {
      "needs_background": "light"
     },
     "output_type": "display_data"
    },
    {
     "name": "stdout",
     "output_type": "stream",
     "text": [
      "Cluster 9\n"
     ]
    },
    {
     "data": {
      "image/png": "[encoded data removed]",
      "text/plain": [
       "<Figure size 432x288 with 1 Axes>"
      ]
     },
     "metadata": {
      "needs_background": "light"
     },
     "output_type": "display_data"
    },
    {
     "name": "stdout",
     "output_type": "stream",
     "text": [
      "Cluster 10\n"
     ]
    },
    {
     "data": {
      "image/png": "[encoded data removed]",
      "text/plain": [
       "<Figure size 432x288 with 1 Axes>"
      ]
     },
     "metadata": {
      "needs_background": "light"
     },
     "output_type": "display_data"
    },
    {
     "name": "stdout",
     "output_type": "stream",
     "text": [
      "Cluster 11\n"
     ]
    },
    {
     "data": {
      "image/png": "[encoded data removed]",
      "text/plain": [
       "<Figure size 432x288 with 1 Axes>"
      ]
     },
     "metadata": {
      "needs_background": "light"
     },
     "output_type": "display_data"
    },
    {
     "name": "stdout",
     "output_type": "stream",
     "text": [
      "Cluster 12\n"
     ]
    },
    {
     "data": {
      "image/png": "[encoded data removed]",
      "text/plain": [
       "<Figure size 432x288 with 1 Axes>"
      ]
     },
     "metadata": {
      "needs_background": "light"
     },
     "output_type": "display_data"
    }
   ],
   "source": [
    "for cluster_label in indicies_per_cluster_label.keys():\n",
    "    print(\"Cluster\", cluster_label)\n",
    "    sns.histplot([m.action for i, m in \\\n",
    "                  enumerate(get_subset_arr(meta_data, cluster_label, \\\n",
    "                                           indicies_per_cluster_label))] , discrete=1, stat=\"count\", binrange=(0,13))\n",
    "    plt.show()\n"
   ]
  },
  {
   "cell_type": "markdown",
   "metadata": {},
   "source": [
    "## Person ID Counts Per Cluster"
   ]
  },
  {
   "cell_type": "code",
   "execution_count": 116,
   "metadata": {},
   "outputs": [
    {
     "name": "stdout",
     "output_type": "stream",
     "text": [
      "Cluster 0\n"
     ]
    },
    {
     "data": {
      "image/png": "[encoded data removed]",
      "text/plain": [
       "<Figure size 432x288 with 1 Axes>"
      ]
     },
     "metadata": {
      "needs_background": "light"
     },
     "output_type": "display_data"
    },
    {
     "name": "stdout",
     "output_type": "stream",
     "text": [
      "Cluster 1\n"
     ]
    },
    {
     "data": {
      "image/png": "[encoded data removed]",
      "text/plain": [
       "<Figure size 432x288 with 1 Axes>"
      ]
     },
     "metadata": {
      "needs_background": "light"
     },
     "output_type": "display_data"
    },
    {
     "name": "stdout",
     "output_type": "stream",
     "text": [
      "Cluster 2\n"
     ]
    },
    {
     "data": {
      "image/png": "[encoded data removed]",
      "text/plain": [
       "<Figure size 432x288 with 1 Axes>"
      ]
     },
     "metadata": {
      "needs_background": "light"
     },
     "output_type": "display_data"
    },
    {
     "name": "stdout",
     "output_type": "stream",
     "text": [
      "Cluster 3\n"
     ]
    },
    {
     "data": {
      "image/png": "[encoded data removed]",
      "text/plain": [
       "<Figure size 432x288 with 1 Axes>"
      ]
     },
     "metadata": {
      "needs_background": "light"
     },
     "output_type": "display_data"
    },
    {
     "name": "stdout",
     "output_type": "stream",
     "text": [
      "Cluster 4\n"
     ]
    },
    {
     "data": {
      "image/png": "[encoded data removed]",
      "text/plain": [
       "<Figure size 432x288 with 1 Axes>"
      ]
     },
     "metadata": {
      "needs_background": "light"
     },
     "output_type": "display_data"
    },
    {
     "name": "stdout",
     "output_type": "stream",
     "text": [
      "Cluster 5\n"
     ]
    },
    {
     "data": {
      "image/png": "[encoded data removed]",
      "text/plain": [
       "<Figure size 432x288 with 1 Axes>"
      ]
     },
     "metadata": {
      "needs_background": "light"
     },
     "output_type": "display_data"
    },
    {
     "name": "stdout",
     "output_type": "stream",
     "text": [
      "Cluster 6\n"
     ]
    },
    {
     "data": {
      "image/png": "[encoded data removed]",
      "text/plain": [
       "<Figure size 432x288 with 1 Axes>"
      ]
     },
     "metadata": {
      "needs_background": "light"
     },
     "output_type": "display_data"
    },
    {
     "name": "stdout",
     "output_type": "stream",
     "text": [
      "Cluster 7\n"
     ]
    },
    {
     "data": {
      "image/png": "[encoded data removed]",
      "text/plain": [
       "<Figure size 432x288 with 1 Axes>"
      ]
     },
     "metadata": {
      "needs_background": "light"
     },
     "output_type": "display_data"
    },
    {
     "name": "stdout",
     "output_type": "stream",
     "text": [
      "Cluster 8\n"
     ]
    },
    {
     "data": {
      "image/png": "[encoded data removed]",
      "text/plain": [
       "<Figure size 432x288 with 1 Axes>"
      ]
     },
     "metadata": {
      "needs_background": "light"
     },
     "output_type": "display_data"
    },
    {
     "name": "stdout",
     "output_type": "stream",
     "text": [
      "Cluster 9\n"
     ]
    },
    {
     "data": {
      "image/png": "[encoded data removed]",
      "text/plain": [
       "<Figure size 432x288 with 1 Axes>"
      ]
     },
     "metadata": {
      "needs_background": "light"
     },
     "output_type": "display_data"
    },
    {
     "name": "stdout",
     "output_type": "stream",
     "text": [
      "Cluster 10\n"
     ]
    },
    {
     "data": {
      "image/png": "[encoded data removed]",
      "text/plain": [
       "<Figure size 432x288 with 1 Axes>"
      ]
     },
     "metadata": {
      "needs_background": "light"
     },
     "output_type": "display_data"
    },
    {
     "name": "stdout",
     "output_type": "stream",
     "text": [
      "Cluster 11\n"
     ]
    },
    {
     "data": {
      "image/png": "[encoded data removed]",
      "text/plain": [
       "<Figure size 432x288 with 1 Axes>"
      ]
     },
     "metadata": {
      "needs_background": "light"
     },
     "output_type": "display_data"
    },
    {
     "name": "stdout",
     "output_type": "stream",
     "text": [
      "Cluster 12\n"
     ]
    },
    {
     "data": {
      "image/png": "[encoded data removed]",
      "text/plain": [
       "<Figure size 432x288 with 1 Axes>"
      ]
     },
     "metadata": {
      "needs_background": "light"
     },
     "output_type": "display_data"
    }
   ],
   "source": [
    "for cluster_label in indicies_per_cluster_label.keys():\n",
    "    print(\"Cluster\", cluster_label)\n",
    "    sns.histplot([m.pid for i, m in \\\n",
    "                  enumerate(get_subset_arr(meta_data, cluster_label, \\\n",
    "                                           indicies_per_cluster_label))] , discrete=1, stat=\"count\", binrange=(0,13))\n",
    "    plt.show()\n"
   ]
  },
  {
   "cell_type": "markdown",
   "metadata": {},
   "source": [
    "# Grad Cam"
   ]
  },
  {
   "cell_type": "code",
   "execution_count": 82,
   "metadata": {},
   "outputs": [
    {
     "name": "stdout",
     "output_type": "stream",
     "text": [
      "Requirement already satisfied: grad-cam in /lustre/fs0/home/arai/my-envs/cv-arushi/lib/python3.8/site-packages (1.2.9)\n",
      "Requirement already satisfied: ttach in /lustre/fs0/home/arai/my-envs/cv-arushi/lib/python3.8/site-packages (0.0.3)\n"
     ]
    }
   ],
   "source": [
    "!pip install grad-cam\n",
    "!command -v ffmpeg >/dev/null || (apt update && apt install -y ffmpeg)\n",
    "!pip install -q mediapy\n",
    "!pip install ttach"
   ]
  },
  {
   "cell_type": "code",
   "execution_count": null,
   "metadata": {},
   "outputs": [],
   "source": []
  },
  {
   "cell_type": "code",
   "execution_count": null,
   "metadata": {},
   "outputs": [],
   "source": []
  },
  {
   "cell_type": "code",
   "execution_count": 109,
   "metadata": {},
   "outputs": [],
   "source": [
    "def visualize_grad_cam(data, heatmap):\n",
    "    # one off alignment (skip last frame, or copy)\n",
    "    chosen_channel = 0\n",
    "    i_num, x_num, y_num = heatmap.shape\n",
    "    for i in range(i_num):\n",
    "        for x in range(x_num):\n",
    "            for y in range(y_num):\n",
    "                data[i, x, y, chosen_channel] = heatmap[i, x, y]\n",
    "    return data"
   ]
  },
  {
   "cell_type": "code",
   "execution_count": 112,
   "metadata": {},
   "outputs": [
    {
     "name": "stdout",
     "output_type": "stream",
     "text": [
      "torch.Size([1, 3, 8, 112, 112])\n",
      "Predicted tensor(1, device='cuda:0')\n",
      "9 tensor(1, device='cuda:0')\n",
      "torch.Size([1, 3, 8, 112, 112])\n",
      "Predicted tensor(1, device='cuda:0')\n",
      "9 tensor(1, device='cuda:0')\n",
      "torch.Size([1, 3, 8, 112, 112])\n",
      "Predicted tensor(1, device='cuda:0')\n",
      "9 tensor(1, device='cuda:0')\n",
      "torch.Size([1, 3, 8, 112, 112])\n",
      "Predicted tensor(1, device='cuda:0')\n",
      "9 tensor(1, device='cuda:0')\n",
      "torch.Size([1, 3, 8, 112, 112])\n",
      "Predicted tensor(1, device='cuda:0')\n",
      "9 tensor(1, device='cuda:0')\n",
      "torch.Size([1, 3, 8, 112, 112])\n",
      "Predicted tensor(1, device='cuda:0')\n",
      "9 tensor(1, device='cuda:0')\n",
      "torch.Size([1, 3, 8, 112, 112])\n",
      "Predicted tensor(1, device='cuda:0')\n",
      "9 tensor(1, device='cuda:0')\n",
      "torch.Size([1, 3, 8, 112, 112])\n",
      "Predicted tensor(1, device='cuda:0')\n",
      "9 tensor(1, device='cuda:0')\n",
      "torch.Size([1, 3, 8, 112, 112])\n",
      "Predicted tensor(1, device='cuda:0')\n",
      "9 tensor(1, device='cuda:0')\n",
      "torch.Size([1, 3, 8, 112, 112])\n",
      "Predicted tensor(1, device='cuda:0')\n",
      "9 tensor(1, device='cuda:0')\n",
      "torch.Size([1, 3, 8, 112, 112])\n",
      "Predicted tensor(1, device='cuda:0')\n",
      "9 tensor(1, device='cuda:0')\n",
      "torch.Size([1, 3, 8, 112, 112])\n",
      "Predicted tensor(1, device='cuda:0')\n",
      "9 tensor(1, device='cuda:0')\n",
      "torch.Size([1, 3, 8, 112, 112])\n",
      "Predicted tensor(1, device='cuda:0')\n",
      "9 tensor(1, device='cuda:0')\n",
      "torch.Size([1, 3, 8, 112, 112])\n",
      "Predicted tensor(1, device='cuda:0')\n",
      "9 tensor(1, device='cuda:0')\n",
      "torch.Size([1, 3, 8, 112, 112])\n",
      "Predicted tensor(1, device='cuda:0')\n",
      "9 tensor(1, device='cuda:0')\n",
      "torch.Size([1, 3, 8, 112, 112])\n",
      "Predicted tensor(1, device='cuda:0')\n",
      "9 tensor(1, device='cuda:0')\n",
      "torch.Size([1, 3, 8, 112, 112])\n",
      "Predicted tensor(1, device='cuda:0')\n",
      "9 tensor(1, device='cuda:0')\n",
      "torch.Size([1, 3, 8, 112, 112])\n",
      "Predicted tensor(1, device='cuda:0')\n",
      "9 tensor(1, device='cuda:0')\n",
      "torch.Size([1, 3, 8, 112, 112])\n",
      "Predicted tensor(1, device='cuda:0')\n",
      "9 tensor(1, device='cuda:0')\n",
      "torch.Size([1, 3, 8, 112, 112])\n",
      "Predicted tensor(1, device='cuda:0')\n",
      "9 tensor(1, device='cuda:0')\n",
      "torch.Size([1, 3, 8, 112, 112])\n",
      "Predicted tensor(1, device='cuda:0')\n",
      "9 tensor(1, device='cuda:0')\n",
      "torch.Size([1, 3, 8, 112, 112])\n",
      "Predicted tensor(1, device='cuda:0')\n",
      "9 tensor(1, device='cuda:0')\n",
      "torch.Size([1, 3, 8, 112, 112])\n",
      "Predicted tensor(1, device='cuda:0')\n",
      "9 tensor(1, device='cuda:0')\n",
      "torch.Size([1, 3, 8, 112, 112])\n",
      "Predicted tensor(1, device='cuda:0')\n",
      "9 tensor(1, device='cuda:0')\n",
      "torch.Size([1, 3, 8, 112, 112])\n",
      "Predicted tensor(1, device='cuda:0')\n",
      "9 tensor(1, device='cuda:0')\n",
      "torch.Size([1, 3, 8, 112, 112])\n",
      "Predicted tensor(1, device='cuda:0')\n",
      "9 tensor(1, device='cuda:0')\n",
      "torch.Size([1, 3, 8, 112, 112])\n",
      "Predicted tensor(1, device='cuda:0')\n",
      "9 tensor(1, device='cuda:0')\n",
      "torch.Size([1, 3, 8, 112, 112])\n",
      "Predicted tensor(1, device='cuda:0')\n",
      "9 tensor(1, device='cuda:0')\n",
      "torch.Size([1, 3, 8, 112, 112])\n",
      "Predicted tensor(1, device='cuda:0')\n",
      "9 tensor(1, device='cuda:0')\n",
      "torch.Size([1, 3, 8, 112, 112])\n",
      "Predicted tensor(1, device='cuda:0')\n",
      "9 tensor(1, device='cuda:0')\n",
      "torch.Size([1, 3, 8, 112, 112])\n",
      "Predicted tensor(1, device='cuda:0')\n",
      "9 tensor(1, device='cuda:0')\n",
      "torch.Size([1, 3, 8, 112, 112])\n",
      "Predicted tensor(1, device='cuda:0')\n",
      "9 tensor(1, device='cuda:0')\n",
      "torch.Size([1, 3, 8, 112, 112])\n",
      "Predicted tensor(1, device='cuda:0')\n",
      "9 tensor(1, device='cuda:0')\n",
      "torch.Size([1, 3, 8, 112, 112])\n",
      "Predicted tensor(1, device='cuda:0')\n",
      "9 tensor(1, device='cuda:0')\n",
      "torch.Size([1, 3, 8, 112, 112])\n",
      "Predicted tensor(1, device='cuda:0')\n",
      "9 tensor(1, device='cuda:0')\n",
      "torch.Size([1, 3, 8, 112, 112])\n",
      "Predicted tensor(1, device='cuda:0')\n",
      "9 tensor(1, device='cuda:0')\n",
      "torch.Size([1, 3, 8, 112, 112])\n",
      "Predicted tensor(1, device='cuda:0')\n",
      "9 tensor(1, device='cuda:0')\n",
      "torch.Size([1, 3, 8, 112, 112])\n",
      "Predicted tensor(1, device='cuda:0')\n",
      "9 tensor(1, device='cuda:0')\n",
      "torch.Size([1, 3, 8, 112, 112])\n",
      "Predicted tensor(1, device='cuda:0')\n",
      "9 tensor(1, device='cuda:0')\n",
      "torch.Size([1, 3, 8, 112, 112])\n",
      "Predicted tensor(1, device='cuda:0')\n",
      "9 tensor(1, device='cuda:0')\n",
      "torch.Size([1, 3, 8, 112, 112])\n",
      "Predicted tensor(1, device='cuda:0')\n",
      "9 tensor(1, device='cuda:0')\n",
      "torch.Size([1, 3, 8, 112, 112])\n",
      "Predicted tensor(1, device='cuda:0')\n",
      "9 tensor(1, device='cuda:0')\n",
      "torch.Size([1, 3, 8, 112, 112])\n",
      "Predicted tensor(1, device='cuda:0')\n",
      "9 tensor(1, device='cuda:0')\n",
      "torch.Size([1, 3, 8, 112, 112])\n",
      "Predicted tensor(1, device='cuda:0')\n",
      "9 tensor(1, device='cuda:0')\n",
      "torch.Size([1, 3, 8, 112, 112])\n",
      "Predicted tensor(1, device='cuda:0')\n",
      "9 tensor(1, device='cuda:0')\n",
      "torch.Size([1, 3, 8, 112, 112])\n",
      "Predicted tensor(1, device='cuda:0')\n",
      "9 tensor(1, device='cuda:0')\n",
      "torch.Size([1, 3, 8, 112, 112])\n",
      "Predicted tensor(1, device='cuda:0')\n",
      "9 tensor(1, device='cuda:0')\n",
      "torch.Size([1, 3, 8, 112, 112])\n",
      "Predicted tensor(1, device='cuda:0')\n",
      "9 tensor(1, device='cuda:0')\n",
      "torch.Size([1, 3, 8, 112, 112])\n",
      "Predicted tensor(1, device='cuda:0')\n",
      "9 tensor(1, device='cuda:0')\n",
      "torch.Size([1, 3, 8, 112, 112])\n",
      "Predicted tensor(1, device='cuda:0')\n",
      "9 tensor(1, device='cuda:0')\n",
      "torch.Size([1, 3, 8, 112, 112])\n",
      "Predicted tensor(1, device='cuda:0')\n",
      "9 tensor(1, device='cuda:0')\n",
      "torch.Size([1, 3, 8, 112, 112])\n",
      "Predicted tensor(1, device='cuda:0')\n",
      "9 tensor(1, device='cuda:0')\n",
      "torch.Size([1, 3, 8, 112, 112])\n",
      "Predicted tensor(1, device='cuda:0')\n",
      "9 tensor(1, device='cuda:0')\n",
      "torch.Size([1, 3, 8, 112, 112])\n",
      "Predicted tensor(1, device='cuda:0')\n",
      "9 tensor(1, device='cuda:0')\n",
      "torch.Size([1, 3, 8, 112, 112])\n",
      "Predicted tensor(1, device='cuda:0')\n",
      "9 tensor(1, device='cuda:0')\n",
      "torch.Size([1, 3, 8, 112, 112])\n",
      "Predicted tensor(1, device='cuda:0')\n",
      "9 tensor(1, device='cuda:0')\n",
      "torch.Size([1, 3, 8, 112, 112])\n",
      "Predicted tensor(1, device='cuda:0')\n",
      "9 tensor(1, device='cuda:0')\n",
      "torch.Size([1, 3, 8, 112, 112])\n",
      "Predicted tensor(1, device='cuda:0')\n",
      "9 tensor(1, device='cuda:0')\n",
      "torch.Size([1, 3, 8, 112, 112])\n",
      "Predicted tensor(1, device='cuda:0')\n",
      "9 tensor(1, device='cuda:0')\n",
      "torch.Size([1, 3, 8, 112, 112])\n",
      "Predicted tensor(1, device='cuda:0')\n",
      "9 tensor(1, device='cuda:0')\n",
      "torch.Size([1, 3, 8, 112, 112])\n",
      "Predicted tensor(1, device='cuda:0')\n",
      "9 tensor(1, device='cuda:0')\n",
      "torch.Size([1, 3, 8, 112, 112])\n",
      "Predicted tensor(1, device='cuda:0')\n",
      "9 tensor(1, device='cuda:0')\n",
      "torch.Size([1, 3, 8, 112, 112])\n",
      "Predicted tensor(1, device='cuda:0')\n",
      "9 tensor(1, device='cuda:0')\n",
      "torch.Size([1, 3, 8, 112, 112])\n",
      "Predicted tensor(1, device='cuda:0')\n",
      "9 tensor(1, device='cuda:0')\n",
      "torch.Size([1, 3, 8, 112, 112])\n",
      "Predicted tensor(1, device='cuda:0')\n",
      "9 tensor(1, device='cuda:0')\n",
      "torch.Size([1, 3, 8, 112, 112])\n",
      "Predicted tensor(1, device='cuda:0')\n",
      "9 tensor(1, device='cuda:0')\n",
      "torch.Size([1, 3, 8, 112, 112])\n",
      "Predicted tensor(1, device='cuda:0')\n",
      "9 tensor(1, device='cuda:0')\n",
      "torch.Size([1, 3, 8, 112, 112])\n",
      "Predicted tensor(1, device='cuda:0')\n",
      "9 tensor(1, device='cuda:0')\n",
      "torch.Size([1, 3, 8, 112, 112])\n",
      "Predicted tensor(1, device='cuda:0')\n",
      "9 tensor(1, device='cuda:0')\n",
      "torch.Size([1, 3, 8, 112, 112])\n",
      "Predicted tensor(1, device='cuda:0')\n",
      "9 tensor(1, device='cuda:0')\n",
      "torch.Size([1, 3, 8, 112, 112])\n",
      "Predicted tensor(1, device='cuda:0')\n",
      "9 tensor(1, device='cuda:0')\n",
      "torch.Size([1, 3, 8, 112, 112])\n",
      "Predicted tensor(1, device='cuda:0')\n",
      "9 tensor(1, device='cuda:0')\n",
      "torch.Size([1, 3, 8, 112, 112])\n",
      "Predicted tensor(1, device='cuda:0')\n",
      "9 tensor(1, device='cuda:0')\n",
      "torch.Size([1, 3, 8, 112, 112])\n",
      "Predicted tensor(1, device='cuda:0')\n",
      "9 tensor(1, device='cuda:0')\n",
      "torch.Size([1, 3, 8, 112, 112])\n",
      "Predicted tensor(1, device='cuda:0')\n",
      "9 tensor(1, device='cuda:0')\n",
      "torch.Size([1, 3, 8, 112, 112])\n",
      "Predicted tensor(1, device='cuda:0')\n",
      "9 tensor(1, device='cuda:0')\n",
      "torch.Size([1, 3, 8, 112, 112])\n",
      "Predicted tensor(1, device='cuda:0')\n",
      "9 tensor(1, device='cuda:0')\n",
      "torch.Size([1, 3, 8, 112, 112])\n",
      "Predicted tensor(1, device='cuda:0')\n",
      "9 tensor(1, device='cuda:0')\n",
      "torch.Size([1, 3, 8, 112, 112])\n",
      "Predicted tensor(1, device='cuda:0')\n",
      "9 tensor(1, device='cuda:0')\n",
      "torch.Size([1, 3, 8, 112, 112])\n",
      "Predicted tensor(1, device='cuda:0')\n",
      "9 tensor(1, device='cuda:0')\n",
      "torch.Size([1, 3, 8, 112, 112])\n",
      "Predicted tensor(1, device='cuda:0')\n",
      "9 tensor(1, device='cuda:0')\n",
      "torch.Size([1, 3, 8, 112, 112])\n",
      "Predicted tensor(1, device='cuda:0')\n",
      "9 tensor(1, device='cuda:0')\n",
      "torch.Size([1, 3, 8, 112, 112])\n",
      "Predicted tensor(1, device='cuda:0')\n",
      "9 tensor(1, device='cuda:0')\n",
      "torch.Size([1, 3, 8, 112, 112])\n",
      "Predicted tensor(1, device='cuda:0')\n",
      "9 tensor(1, device='cuda:0')\n",
      "torch.Size([1, 3, 8, 112, 112])\n",
      "Predicted tensor(1, device='cuda:0')\n",
      "9 tensor(1, device='cuda:0')\n",
      "torch.Size([1, 3, 8, 112, 112])\n"
     ]
    },
    {
     "name": "stdout",
     "output_type": "stream",
     "text": [
      "Predicted tensor(1, device='cuda:0')\n",
      "9 tensor(1, device='cuda:0')\n",
      "torch.Size([1, 3, 8, 112, 112])\n",
      "Predicted tensor(1, device='cuda:0')\n",
      "9 tensor(1, device='cuda:0')\n",
      "torch.Size([1, 3, 8, 112, 112])\n",
      "Predicted tensor(1, device='cuda:0')\n",
      "9 tensor(1, device='cuda:0')\n",
      "torch.Size([1, 3, 8, 112, 112])\n",
      "Predicted tensor(1, device='cuda:0')\n",
      "9 tensor(1, device='cuda:0')\n",
      "torch.Size([1, 3, 8, 112, 112])\n",
      "Predicted tensor(1, device='cuda:0')\n",
      "9 tensor(1, device='cuda:0')\n",
      "torch.Size([1, 3, 8, 112, 112])\n",
      "Predicted tensor(1, device='cuda:0')\n",
      "9 tensor(1, device='cuda:0')\n",
      "torch.Size([1, 3, 8, 112, 112])\n",
      "Predicted tensor(1, device='cuda:0')\n",
      "9 tensor(1, device='cuda:0')\n",
      "torch.Size([1, 3, 8, 112, 112])\n",
      "Predicted tensor(1, device='cuda:0')\n",
      "9 tensor(1, device='cuda:0')\n",
      "torch.Size([1, 3, 8, 112, 112])\n",
      "Predicted tensor(1, device='cuda:0')\n",
      "9 tensor(1, device='cuda:0')\n",
      "torch.Size([1, 3, 8, 112, 112])\n",
      "Predicted tensor(1, device='cuda:0')\n",
      "9 tensor(1, device='cuda:0')\n",
      "torch.Size([1, 3, 8, 112, 112])\n",
      "Predicted tensor(1, device='cuda:0')\n",
      "9 tensor(1, device='cuda:0')\n",
      "torch.Size([1, 3, 8, 112, 112])\n",
      "Predicted tensor(1, device='cuda:0')\n",
      "9 tensor(1, device='cuda:0')\n",
      "torch.Size([1, 3, 8, 112, 112])\n",
      "Predicted tensor(1, device='cuda:0')\n",
      "9 tensor(1, device='cuda:0')\n",
      "torch.Size([1, 3, 8, 112, 112])\n",
      "Predicted tensor(1, device='cuda:0')\n",
      "9 tensor(1, device='cuda:0')\n",
      "torch.Size([1, 3, 8, 112, 112])\n",
      "Predicted tensor(1, device='cuda:0')\n",
      "9 tensor(1, device='cuda:0')\n",
      "torch.Size([1, 3, 8, 112, 112])\n",
      "Predicted tensor(1, device='cuda:0')\n",
      "9 tensor(1, device='cuda:0')\n",
      "torch.Size([1, 3, 8, 112, 112])\n",
      "Predicted tensor(1, device='cuda:0')\n",
      "9 tensor(1, device='cuda:0')\n",
      "torch.Size([1, 3, 8, 112, 112])\n",
      "Predicted tensor(1, device='cuda:0')\n",
      "9 tensor(1, device='cuda:0')\n",
      "torch.Size([1, 3, 8, 112, 112])\n",
      "Predicted tensor(1, device='cuda:0')\n",
      "9 tensor(1, device='cuda:0')\n",
      "torch.Size([1, 3, 8, 112, 112])\n",
      "Predicted tensor(1, device='cuda:0')\n",
      "9 tensor(1, device='cuda:0')\n",
      "torch.Size([1, 3, 8, 112, 112])\n",
      "Predicted tensor(1, device='cuda:0')\n",
      "9 tensor(1, device='cuda:0')\n",
      "torch.Size([1, 3, 8, 112, 112])\n",
      "Predicted tensor(1, device='cuda:0')\n",
      "9 tensor(1, device='cuda:0')\n",
      "torch.Size([1, 3, 8, 112, 112])\n",
      "Predicted tensor(1, device='cuda:0')\n",
      "9 tensor(1, device='cuda:0')\n",
      "torch.Size([1, 3, 8, 112, 112])\n",
      "Predicted tensor(1, device='cuda:0')\n",
      "9 tensor(1, device='cuda:0')\n",
      "torch.Size([1, 3, 8, 112, 112])\n",
      "Predicted tensor(1, device='cuda:0')\n",
      "9 tensor(1, device='cuda:0')\n",
      "torch.Size([1, 3, 8, 112, 112])\n",
      "Predicted tensor(1, device='cuda:0')\n",
      "9 tensor(1, device='cuda:0')\n",
      "torch.Size([1, 3, 8, 112, 112])\n",
      "Predicted tensor(1, device='cuda:0')\n",
      "9 tensor(1, device='cuda:0')\n",
      "torch.Size([1, 3, 8, 112, 112])\n",
      "Predicted tensor(1, device='cuda:0')\n",
      "9 tensor(1, device='cuda:0')\n",
      "torch.Size([1, 3, 8, 112, 112])\n",
      "Predicted tensor(1, device='cuda:0')\n",
      "9 tensor(1, device='cuda:0')\n",
      "torch.Size([1, 3, 8, 112, 112])\n",
      "Predicted tensor(1, device='cuda:0')\n",
      "9 tensor(1, device='cuda:0')\n",
      "torch.Size([1, 3, 8, 112, 112])\n",
      "Predicted tensor(1, device='cuda:0')\n",
      "9 tensor(1, device='cuda:0')\n",
      "torch.Size([1, 3, 8, 112, 112])\n",
      "Predicted tensor(1, device='cuda:0')\n",
      "9 tensor(1, device='cuda:0')\n",
      "torch.Size([1, 3, 8, 112, 112])\n",
      "Predicted tensor(1, device='cuda:0')\n",
      "9 tensor(1, device='cuda:0')\n",
      "torch.Size([1, 3, 8, 112, 112])\n",
      "Predicted tensor(1, device='cuda:0')\n",
      "9 tensor(1, device='cuda:0')\n",
      "torch.Size([1, 3, 8, 112, 112])\n",
      "Predicted tensor(1, device='cuda:0')\n",
      "9 tensor(1, device='cuda:0')\n",
      "torch.Size([1, 3, 8, 112, 112])\n",
      "Predicted tensor(1, device='cuda:0')\n",
      "9 tensor(1, device='cuda:0')\n",
      "torch.Size([1, 3, 8, 112, 112])\n",
      "Predicted tensor(1, device='cuda:0')\n",
      "9 tensor(1, device='cuda:0')\n",
      "torch.Size([1, 3, 8, 112, 112])\n",
      "Predicted tensor(1, device='cuda:0')\n",
      "9 tensor(1, device='cuda:0')\n",
      "torch.Size([1, 3, 8, 112, 112])\n",
      "Predicted tensor(1, device='cuda:0')\n",
      "9 tensor(1, device='cuda:0')\n",
      "torch.Size([1, 3, 8, 112, 112])\n",
      "Predicted tensor(1, device='cuda:0')\n",
      "9 tensor(1, device='cuda:0')\n",
      "torch.Size([1, 3, 8, 112, 112])\n",
      "Predicted tensor(1, device='cuda:0')\n",
      "9 tensor(1, device='cuda:0')\n",
      "torch.Size([1, 3, 8, 112, 112])\n",
      "Predicted tensor(1, device='cuda:0')\n",
      "9 tensor(1, device='cuda:0')\n",
      "torch.Size([1, 3, 8, 112, 112])\n",
      "Predicted tensor(1, device='cuda:0')\n",
      "9 tensor(1, device='cuda:0')\n",
      "torch.Size([1, 3, 8, 112, 112])\n",
      "Predicted tensor(1, device='cuda:0')\n",
      "9 tensor(1, device='cuda:0')\n",
      "torch.Size([1, 3, 8, 112, 112])\n",
      "Predicted tensor(1, device='cuda:0')\n",
      "9 tensor(1, device='cuda:0')\n",
      "torch.Size([1, 3, 8, 112, 112])\n",
      "Predicted tensor(1, device='cuda:0')\n",
      "9 tensor(1, device='cuda:0')\n",
      "torch.Size([1, 3, 8, 112, 112])\n",
      "Predicted tensor(1, device='cuda:0')\n",
      "9 tensor(1, device='cuda:0')\n",
      "torch.Size([1, 3, 8, 112, 112])\n",
      "Predicted tensor(1, device='cuda:0')\n",
      "9 tensor(1, device='cuda:0')\n",
      "torch.Size([1, 3, 8, 112, 112])\n",
      "Predicted tensor(1, device='cuda:0')\n",
      "9 tensor(1, device='cuda:0')\n",
      "torch.Size([1, 3, 8, 112, 112])\n",
      "Predicted tensor(1, device='cuda:0')\n",
      "9 tensor(1, device='cuda:0')\n",
      "torch.Size([1, 3, 8, 112, 112])\n",
      "Predicted tensor(1, device='cuda:0')\n",
      "9 tensor(1, device='cuda:0')\n",
      "torch.Size([1, 3, 8, 112, 112])\n",
      "Predicted tensor(1, device='cuda:0')\n",
      "9 tensor(1, device='cuda:0')\n",
      "torch.Size([1, 3, 8, 112, 112])\n",
      "Predicted tensor(1, device='cuda:0')\n",
      "9 tensor(1, device='cuda:0')\n",
      "torch.Size([1, 3, 8, 112, 112])\n",
      "Predicted tensor(1, device='cuda:0')\n",
      "9 tensor(1, device='cuda:0')\n",
      "torch.Size([1, 3, 8, 112, 112])\n",
      "Predicted tensor(1, device='cuda:0')\n",
      "9 tensor(1, device='cuda:0')\n",
      "torch.Size([1, 3, 8, 112, 112])\n",
      "Predicted tensor(1, device='cuda:0')\n",
      "9 tensor(1, device='cuda:0')\n",
      "torch.Size([1, 3, 8, 112, 112])\n",
      "Predicted tensor(1, device='cuda:0')\n",
      "9 tensor(1, device='cuda:0')\n",
      "torch.Size([1, 3, 8, 112, 112])\n",
      "Predicted tensor(1, device='cuda:0')\n",
      "9 tensor(1, device='cuda:0')\n",
      "torch.Size([1, 3, 8, 112, 112])\n",
      "Predicted tensor(1, device='cuda:0')\n",
      "9 tensor(1, device='cuda:0')\n",
      "torch.Size([1, 3, 8, 112, 112])\n",
      "Predicted tensor(1, device='cuda:0')\n",
      "9 tensor(1, device='cuda:0')\n",
      "torch.Size([1, 3, 8, 112, 112])\n",
      "Predicted tensor(1, device='cuda:0')\n",
      "9 tensor(1, device='cuda:0')\n",
      "torch.Size([1, 3, 8, 112, 112])\n",
      "Predicted tensor(1, device='cuda:0')\n",
      "9 tensor(1, device='cuda:0')\n",
      "torch.Size([1, 3, 8, 112, 112])\n",
      "Predicted tensor(1, device='cuda:0')\n",
      "9 tensor(1, device='cuda:0')\n",
      "torch.Size([1, 3, 8, 112, 112])\n",
      "Predicted tensor(1, device='cuda:0')\n",
      "9 tensor(1, device='cuda:0')\n",
      "torch.Size([1, 3, 8, 112, 112])\n",
      "Predicted tensor(1, device='cuda:0')\n",
      "9 tensor(1, device='cuda:0')\n",
      "torch.Size([1, 3, 8, 112, 112])\n",
      "Predicted tensor(1, device='cuda:0')\n",
      "9 tensor(1, device='cuda:0')\n",
      "torch.Size([1, 3, 8, 112, 112])\n",
      "Predicted tensor(1, device='cuda:0')\n",
      "9 tensor(1, device='cuda:0')\n",
      "torch.Size([1, 3, 8, 112, 112])\n",
      "Predicted tensor(1, device='cuda:0')\n",
      "9 tensor(1, device='cuda:0')\n",
      "torch.Size([1, 3, 8, 112, 112])\n",
      "Predicted tensor(1, device='cuda:0')\n",
      "9 tensor(1, device='cuda:0')\n",
      "torch.Size([1, 3, 8, 112, 112])\n",
      "Predicted tensor(1, device='cuda:0')\n",
      "9 tensor(1, device='cuda:0')\n",
      "torch.Size([1, 3, 8, 112, 112])\n",
      "Predicted tensor(1, device='cuda:0')\n",
      "9 tensor(1, device='cuda:0')\n",
      "torch.Size([1, 3, 8, 112, 112])\n",
      "Predicted tensor(1, device='cuda:0')\n",
      "9 tensor(1, device='cuda:0')\n",
      "torch.Size([1, 3, 8, 112, 112])\n",
      "Predicted tensor(1, device='cuda:0')\n",
      "9 tensor(1, device='cuda:0')\n",
      "torch.Size([1, 3, 8, 112, 112])\n",
      "Predicted tensor(1, device='cuda:0')\n",
      "9 tensor(1, device='cuda:0')\n",
      "torch.Size([1, 3, 8, 112, 112])\n",
      "Predicted tensor(1, device='cuda:0')\n",
      "9 tensor(1, device='cuda:0')\n",
      "torch.Size([1, 3, 8, 112, 112])\n",
      "Predicted tensor(1, device='cuda:0')\n",
      "9 tensor(1, device='cuda:0')\n",
      "torch.Size([1, 3, 8, 112, 112])\n",
      "Predicted tensor(1, device='cuda:0')\n",
      "9 tensor(1, device='cuda:0')\n",
      "torch.Size([1, 3, 8, 112, 112])\n",
      "Predicted tensor(1, device='cuda:0')\n",
      "9 tensor(1, device='cuda:0')\n",
      "torch.Size([1, 3, 8, 112, 112])\n",
      "Predicted tensor(1, device='cuda:0')\n",
      "9 tensor(1, device='cuda:0')\n",
      "torch.Size([1, 3, 8, 112, 112])\n",
      "Predicted tensor(1, device='cuda:0')\n",
      "9 tensor(1, device='cuda:0')\n",
      "torch.Size([1, 3, 8, 112, 112])\n",
      "Predicted tensor(1, device='cuda:0')\n",
      "9 tensor(1, device='cuda:0')\n",
      "torch.Size([1, 3, 8, 112, 112])\n",
      "Predicted tensor(1, device='cuda:0')\n",
      "9 tensor(1, device='cuda:0')\n",
      "torch.Size([1, 3, 8, 112, 112])\n",
      "Predicted tensor(1, device='cuda:0')\n",
      "9 tensor(1, device='cuda:0')\n",
      "torch.Size([1, 3, 8, 112, 112])\n",
      "Predicted tensor(1, device='cuda:0')\n",
      "9 tensor(1, device='cuda:0')\n",
      "torch.Size([1, 3, 8, 112, 112])\n"
     ]
    },
    {
     "name": "stdout",
     "output_type": "stream",
     "text": [
      "Predicted tensor(1, device='cuda:0')\n",
      "9 tensor(1, device='cuda:0')\n",
      "torch.Size([1, 3, 8, 112, 112])\n",
      "Predicted tensor(1, device='cuda:0')\n",
      "9 tensor(1, device='cuda:0')\n",
      "torch.Size([1, 3, 8, 112, 112])\n",
      "Predicted tensor(1, device='cuda:0')\n",
      "9 tensor(1, device='cuda:0')\n",
      "torch.Size([1, 3, 8, 112, 112])\n",
      "Predicted tensor(1, device='cuda:0')\n",
      "9 tensor(1, device='cuda:0')\n",
      "torch.Size([1, 3, 8, 112, 112])\n",
      "Predicted tensor(1, device='cuda:0')\n",
      "9 tensor(1, device='cuda:0')\n",
      "torch.Size([1, 3, 8, 112, 112])\n",
      "Predicted tensor(1, device='cuda:0')\n",
      "9 tensor(1, device='cuda:0')\n",
      "torch.Size([1, 3, 8, 112, 112])\n",
      "Predicted tensor(1, device='cuda:0')\n",
      "9 tensor(1, device='cuda:0')\n",
      "torch.Size([1, 3, 8, 112, 112])\n",
      "Predicted tensor(1, device='cuda:0')\n",
      "9 tensor(1, device='cuda:0')\n",
      "torch.Size([1, 3, 8, 112, 112])\n",
      "Predicted tensor(1, device='cuda:0')\n",
      "9 tensor(1, device='cuda:0')\n",
      "torch.Size([1, 3, 8, 112, 112])\n",
      "Predicted tensor(1, device='cuda:0')\n",
      "9 tensor(1, device='cuda:0')\n",
      "torch.Size([1, 3, 8, 112, 112])\n",
      "Predicted tensor(1, device='cuda:0')\n",
      "9 tensor(1, device='cuda:0')\n",
      "torch.Size([1, 3, 8, 112, 112])\n",
      "Predicted tensor(1, device='cuda:0')\n",
      "9 tensor(1, device='cuda:0')\n",
      "torch.Size([1, 3, 8, 112, 112])\n",
      "Predicted tensor(1, device='cuda:0')\n",
      "9 tensor(1, device='cuda:0')\n",
      "torch.Size([1, 3, 8, 112, 112])\n",
      "Predicted tensor(1, device='cuda:0')\n",
      "9 tensor(1, device='cuda:0')\n",
      "torch.Size([1, 3, 8, 112, 112])\n",
      "Predicted tensor(1, device='cuda:0')\n",
      "9 tensor(1, device='cuda:0')\n",
      "torch.Size([1, 3, 8, 112, 112])\n",
      "Predicted tensor(1, device='cuda:0')\n",
      "9 tensor(1, device='cuda:0')\n",
      "torch.Size([1, 3, 8, 112, 112])\n",
      "Predicted tensor(1, device='cuda:0')\n",
      "9 tensor(1, device='cuda:0')\n",
      "torch.Size([1, 3, 8, 112, 112])\n",
      "Predicted tensor(1, device='cuda:0')\n",
      "9 tensor(1, device='cuda:0')\n",
      "torch.Size([1, 3, 8, 112, 112])\n",
      "Predicted tensor(1, device='cuda:0')\n",
      "9 tensor(1, device='cuda:0')\n",
      "torch.Size([1, 3, 8, 112, 112])\n",
      "Predicted tensor(1, device='cuda:0')\n",
      "9 tensor(1, device='cuda:0')\n",
      "torch.Size([1, 3, 8, 112, 112])\n",
      "Predicted tensor(1, device='cuda:0')\n",
      "9 tensor(1, device='cuda:0')\n",
      "torch.Size([1, 3, 8, 112, 112])\n",
      "Predicted tensor(1, device='cuda:0')\n",
      "9 tensor(1, device='cuda:0')\n",
      "torch.Size([1, 3, 8, 112, 112])\n",
      "Predicted tensor(1, device='cuda:0')\n",
      "9 tensor(1, device='cuda:0')\n",
      "torch.Size([1, 3, 8, 112, 112])\n",
      "Predicted tensor(1, device='cuda:0')\n",
      "9 tensor(1, device='cuda:0')\n",
      "torch.Size([1, 3, 8, 112, 112])\n",
      "Predicted tensor(1, device='cuda:0')\n",
      "9 tensor(1, device='cuda:0')\n",
      "torch.Size([1, 3, 8, 112, 112])\n",
      "Predicted tensor(1, device='cuda:0')\n",
      "9 tensor(1, device='cuda:0')\n",
      "torch.Size([1, 3, 8, 112, 112])\n",
      "Predicted tensor(1, device='cuda:0')\n",
      "9 tensor(1, device='cuda:0')\n",
      "torch.Size([1, 3, 8, 112, 112])\n",
      "Predicted tensor(1, device='cuda:0')\n",
      "9 tensor(1, device='cuda:0')\n",
      "torch.Size([1, 3, 8, 112, 112])\n",
      "Predicted tensor(1, device='cuda:0')\n",
      "9 tensor(1, device='cuda:0')\n",
      "torch.Size([1, 3, 8, 112, 112])\n",
      "Predicted tensor(1, device='cuda:0')\n",
      "9 tensor(1, device='cuda:0')\n",
      "torch.Size([1, 3, 8, 112, 112])\n",
      "Predicted tensor(1, device='cuda:0')\n",
      "9 tensor(1, device='cuda:0')\n",
      "torch.Size([1, 3, 8, 112, 112])\n",
      "Predicted tensor(1, device='cuda:0')\n",
      "9 tensor(1, device='cuda:0')\n",
      "torch.Size([1, 3, 8, 112, 112])\n",
      "Predicted tensor(1, device='cuda:0')\n",
      "9 tensor(1, device='cuda:0')\n",
      "torch.Size([1, 3, 8, 112, 112])\n",
      "Predicted tensor(1, device='cuda:0')\n",
      "9 tensor(1, device='cuda:0')\n",
      "torch.Size([1, 3, 8, 112, 112])\n",
      "Predicted tensor(1, device='cuda:0')\n",
      "9 tensor(1, device='cuda:0')\n",
      "torch.Size([1, 3, 8, 112, 112])\n",
      "Predicted tensor(1, device='cuda:0')\n",
      "9 tensor(1, device='cuda:0')\n",
      "torch.Size([1, 3, 8, 112, 112])\n",
      "Predicted tensor(1, device='cuda:0')\n",
      "9 tensor(1, device='cuda:0')\n",
      "torch.Size([1, 3, 8, 112, 112])\n",
      "Predicted tensor(1, device='cuda:0')\n",
      "9 tensor(1, device='cuda:0')\n",
      "torch.Size([1, 3, 8, 112, 112])\n",
      "Predicted tensor(1, device='cuda:0')\n",
      "9 tensor(1, device='cuda:0')\n",
      "torch.Size([1, 3, 8, 112, 112])\n",
      "Predicted tensor(1, device='cuda:0')\n",
      "9 tensor(1, device='cuda:0')\n",
      "torch.Size([1, 3, 8, 112, 112])\n",
      "Predicted tensor(1, device='cuda:0')\n",
      "9 tensor(1, device='cuda:0')\n",
      "torch.Size([1, 3, 8, 112, 112])\n",
      "Predicted tensor(1, device='cuda:0')\n",
      "9 tensor(1, device='cuda:0')\n",
      "torch.Size([1, 3, 8, 112, 112])\n",
      "Predicted tensor(1, device='cuda:0')\n",
      "9 tensor(1, device='cuda:0')\n",
      "torch.Size([1, 3, 8, 112, 112])\n",
      "Predicted tensor(1, device='cuda:0')\n",
      "9 tensor(1, device='cuda:0')\n",
      "torch.Size([1, 3, 8, 112, 112])\n",
      "Predicted tensor(1, device='cuda:0')\n",
      "9 tensor(1, device='cuda:0')\n",
      "torch.Size([1, 3, 8, 112, 112])\n",
      "Predicted tensor(1, device='cuda:0')\n",
      "9 tensor(1, device='cuda:0')\n",
      "torch.Size([1, 3, 8, 112, 112])\n",
      "Predicted tensor(1, device='cuda:0')\n",
      "9 tensor(1, device='cuda:0')\n",
      "torch.Size([1, 3, 8, 112, 112])\n",
      "Predicted tensor(1, device='cuda:0')\n",
      "9 tensor(1, device='cuda:0')\n",
      "torch.Size([1, 3, 8, 112, 112])\n",
      "Predicted tensor(1, device='cuda:0')\n",
      "9 tensor(1, device='cuda:0')\n",
      "torch.Size([1, 3, 8, 112, 112])\n",
      "Predicted tensor(1, device='cuda:0')\n",
      "9 tensor(1, device='cuda:0')\n",
      "torch.Size([1, 3, 8, 112, 112])\n",
      "Predicted tensor(1, device='cuda:0')\n",
      "9 tensor(1, device='cuda:0')\n",
      "torch.Size([1, 3, 8, 112, 112])\n",
      "Predicted tensor(1, device='cuda:0')\n",
      "9 tensor(1, device='cuda:0')\n",
      "torch.Size([1, 3, 8, 112, 112])\n",
      "Predicted tensor(1, device='cuda:0')\n",
      "9 tensor(1, device='cuda:0')\n",
      "torch.Size([1, 3, 8, 112, 112])\n",
      "Predicted tensor(1, device='cuda:0')\n",
      "9 tensor(1, device='cuda:0')\n",
      "torch.Size([1, 3, 8, 112, 112])\n",
      "Predicted tensor(1, device='cuda:0')\n",
      "9 tensor(1, device='cuda:0')\n",
      "torch.Size([1, 3, 8, 112, 112])\n",
      "Predicted tensor(1, device='cuda:0')\n",
      "9 tensor(1, device='cuda:0')\n",
      "torch.Size([1, 3, 8, 112, 112])\n",
      "Predicted tensor(1, device='cuda:0')\n",
      "9 tensor(1, device='cuda:0')\n",
      "torch.Size([1, 3, 8, 112, 112])\n",
      "Predicted tensor(1, device='cuda:0')\n",
      "9 tensor(1, device='cuda:0')\n",
      "torch.Size([1, 3, 8, 112, 112])\n",
      "Predicted tensor(1, device='cuda:0')\n",
      "9 tensor(1, device='cuda:0')\n",
      "torch.Size([1, 3, 8, 112, 112])\n",
      "Predicted tensor(1, device='cuda:0')\n",
      "9 tensor(1, device='cuda:0')\n",
      "torch.Size([1, 3, 8, 112, 112])\n",
      "Predicted tensor(1, device='cuda:0')\n",
      "9 tensor(1, device='cuda:0')\n",
      "torch.Size([1, 3, 8, 112, 112])\n",
      "Predicted tensor(1, device='cuda:0')\n",
      "9 tensor(1, device='cuda:0')\n",
      "torch.Size([1, 3, 8, 112, 112])\n",
      "Predicted tensor(1, device='cuda:0')\n",
      "9 tensor(1, device='cuda:0')\n",
      "torch.Size([1, 3, 8, 112, 112])\n",
      "Predicted tensor(1, device='cuda:0')\n",
      "9 tensor(1, device='cuda:0')\n",
      "torch.Size([1, 3, 8, 112, 112])\n",
      "Predicted tensor(1, device='cuda:0')\n",
      "9 tensor(1, device='cuda:0')\n",
      "torch.Size([1, 3, 8, 112, 112])\n",
      "Predicted tensor(1, device='cuda:0')\n",
      "9 tensor(1, device='cuda:0')\n",
      "torch.Size([1, 3, 8, 112, 112])\n",
      "Predicted tensor(1, device='cuda:0')\n",
      "9 tensor(1, device='cuda:0')\n",
      "torch.Size([1, 3, 8, 112, 112])\n",
      "Predicted tensor(1, device='cuda:0')\n",
      "9 tensor(1, device='cuda:0')\n",
      "torch.Size([1, 3, 8, 112, 112])\n",
      "Predicted tensor(1, device='cuda:0')\n",
      "9 tensor(1, device='cuda:0')\n",
      "torch.Size([1, 3, 8, 112, 112])\n",
      "Predicted tensor(1, device='cuda:0')\n",
      "9 tensor(1, device='cuda:0')\n",
      "torch.Size([1, 3, 8, 112, 112])\n",
      "Predicted tensor(1, device='cuda:0')\n",
      "9 tensor(1, device='cuda:0')\n",
      "torch.Size([1, 3, 8, 112, 112])\n",
      "Predicted tensor(1, device='cuda:0')\n",
      "9 tensor(1, device='cuda:0')\n",
      "torch.Size([1, 3, 8, 112, 112])\n",
      "Predicted tensor(1, device='cuda:0')\n",
      "9 tensor(1, device='cuda:0')\n",
      "torch.Size([1, 3, 8, 112, 112])\n",
      "Predicted tensor(1, device='cuda:0')\n",
      "9 tensor(1, device='cuda:0')\n",
      "torch.Size([1, 3, 8, 112, 112])\n",
      "Predicted tensor(1, device='cuda:0')\n",
      "9 tensor(1, device='cuda:0')\n",
      "torch.Size([1, 3, 8, 112, 112])\n",
      "Predicted tensor(1, device='cuda:0')\n",
      "9 tensor(1, device='cuda:0')\n",
      "torch.Size([1, 3, 8, 112, 112])\n",
      "Predicted tensor(1, device='cuda:0')\n",
      "9 tensor(1, device='cuda:0')\n",
      "torch.Size([1, 3, 8, 112, 112])\n",
      "Predicted tensor(1, device='cuda:0')\n",
      "9 tensor(1, device='cuda:0')\n",
      "torch.Size([1, 3, 8, 112, 112])\n",
      "Predicted tensor(1, device='cuda:0')\n",
      "9 tensor(1, device='cuda:0')\n",
      "torch.Size([1, 3, 8, 112, 112])\n",
      "Predicted tensor(1, device='cuda:0')\n",
      "9 tensor(1, device='cuda:0')\n",
      "torch.Size([1, 3, 8, 112, 112])\n",
      "Predicted tensor(1, device='cuda:0')\n",
      "9 tensor(1, device='cuda:0')\n",
      "torch.Size([1, 3, 8, 112, 112])\n",
      "Predicted tensor(1, device='cuda:0')\n",
      "9 tensor(1, device='cuda:0')\n",
      "torch.Size([1, 3, 8, 112, 112])\n",
      "Predicted tensor(1, device='cuda:0')\n",
      "9 tensor(1, device='cuda:0')\n",
      "torch.Size([1, 3, 8, 112, 112])\n",
      "Predicted tensor(1, device='cuda:0')\n",
      "9 tensor(1, device='cuda:0')\n"
     ]
    },
    {
     "name": "stdout",
     "output_type": "stream",
     "text": [
      "torch.Size([1, 3, 8, 112, 112])\n",
      "Predicted tensor(1, device='cuda:0')\n",
      "9 tensor(1, device='cuda:0')\n",
      "torch.Size([1, 3, 8, 112, 112])\n",
      "Predicted tensor(1, device='cuda:0')\n",
      "9 tensor(1, device='cuda:0')\n",
      "torch.Size([1, 3, 8, 112, 112])\n",
      "Predicted tensor(1, device='cuda:0')\n",
      "9 tensor(1, device='cuda:0')\n",
      "torch.Size([1, 3, 8, 112, 112])\n",
      "Predicted tensor(1, device='cuda:0')\n",
      "9 tensor(1, device='cuda:0')\n",
      "torch.Size([1, 3, 8, 112, 112])\n",
      "Predicted tensor(1, device='cuda:0')\n",
      "9 tensor(1, device='cuda:0')\n",
      "torch.Size([1, 3, 8, 112, 112])\n",
      "Predicted tensor(1, device='cuda:0')\n",
      "9 tensor(1, device='cuda:0')\n",
      "torch.Size([1, 3, 8, 112, 112])\n",
      "Predicted tensor(1, device='cuda:0')\n",
      "9 tensor(1, device='cuda:0')\n",
      "torch.Size([1, 3, 8, 112, 112])\n",
      "Predicted tensor(1, device='cuda:0')\n",
      "9 tensor(1, device='cuda:0')\n",
      "torch.Size([1, 3, 8, 112, 112])\n",
      "Predicted tensor(1, device='cuda:0')\n",
      "9 tensor(1, device='cuda:0')\n",
      "torch.Size([1, 3, 8, 112, 112])\n",
      "Predicted tensor(1, device='cuda:0')\n",
      "9 tensor(1, device='cuda:0')\n",
      "torch.Size([1, 3, 8, 112, 112])\n",
      "Predicted tensor(1, device='cuda:0')\n",
      "9 tensor(1, device='cuda:0')\n",
      "torch.Size([1, 3, 8, 112, 112])\n",
      "Predicted tensor(1, device='cuda:0')\n",
      "9 tensor(1, device='cuda:0')\n",
      "torch.Size([1, 3, 8, 112, 112])\n",
      "Predicted tensor(1, device='cuda:0')\n",
      "9 tensor(1, device='cuda:0')\n",
      "torch.Size([1, 3, 8, 112, 112])\n",
      "Predicted tensor(1, device='cuda:0')\n",
      "9 tensor(1, device='cuda:0')\n",
      "torch.Size([1, 3, 8, 112, 112])\n",
      "Predicted tensor(1, device='cuda:0')\n",
      "9 tensor(1, device='cuda:0')\n",
      "torch.Size([1, 3, 8, 112, 112])\n",
      "Predicted tensor(1, device='cuda:0')\n",
      "9 tensor(1, device='cuda:0')\n",
      "torch.Size([1, 3, 8, 112, 112])\n",
      "Predicted tensor(1, device='cuda:0')\n",
      "9 tensor(1, device='cuda:0')\n",
      "torch.Size([1, 3, 8, 112, 112])\n",
      "Predicted tensor(1, device='cuda:0')\n",
      "9 tensor(1, device='cuda:0')\n",
      "torch.Size([1, 3, 8, 112, 112])\n",
      "Predicted tensor(1, device='cuda:0')\n",
      "9 tensor(1, device='cuda:0')\n",
      "torch.Size([1, 3, 8, 112, 112])\n",
      "Predicted tensor(1, device='cuda:0')\n",
      "9 tensor(1, device='cuda:0')\n",
      "torch.Size([1, 3, 8, 112, 112])\n",
      "Predicted tensor(1, device='cuda:0')\n",
      "9 tensor(1, device='cuda:0')\n",
      "torch.Size([1, 3, 8, 112, 112])\n",
      "Predicted tensor(1, device='cuda:0')\n",
      "9 tensor(1, device='cuda:0')\n",
      "torch.Size([1, 3, 8, 112, 112])\n",
      "Predicted tensor(1, device='cuda:0')\n",
      "9 tensor(1, device='cuda:0')\n",
      "torch.Size([1, 3, 8, 112, 112])\n",
      "Predicted tensor(1, device='cuda:0')\n",
      "9 tensor(1, device='cuda:0')\n",
      "torch.Size([1, 3, 8, 112, 112])\n",
      "Predicted tensor(1, device='cuda:0')\n",
      "9 tensor(1, device='cuda:0')\n",
      "torch.Size([1, 3, 8, 112, 112])\n",
      "Predicted tensor(1, device='cuda:0')\n",
      "9 tensor(1, device='cuda:0')\n",
      "torch.Size([1, 3, 8, 112, 112])\n",
      "Predicted tensor(1, device='cuda:0')\n",
      "9 tensor(1, device='cuda:0')\n",
      "torch.Size([1, 3, 8, 112, 112])\n",
      "Predicted tensor(1, device='cuda:0')\n",
      "9 tensor(1, device='cuda:0')\n",
      "torch.Size([1, 3, 8, 112, 112])\n",
      "Predicted tensor(1, device='cuda:0')\n",
      "9 tensor(1, device='cuda:0')\n",
      "torch.Size([1, 3, 8, 112, 112])\n",
      "Predicted tensor(1, device='cuda:0')\n",
      "9 tensor(1, device='cuda:0')\n",
      "torch.Size([1, 3, 8, 112, 112])\n",
      "Predicted tensor(1, device='cuda:0')\n",
      "9 tensor(1, device='cuda:0')\n",
      "torch.Size([1, 3, 8, 112, 112])\n",
      "Predicted tensor(1, device='cuda:0')\n",
      "9 tensor(1, device='cuda:0')\n",
      "torch.Size([1, 3, 8, 112, 112])\n",
      "Predicted tensor(1, device='cuda:0')\n",
      "9 tensor(1, device='cuda:0')\n",
      "torch.Size([1, 3, 8, 112, 112])\n",
      "Predicted tensor(1, device='cuda:0')\n",
      "9 tensor(1, device='cuda:0')\n",
      "torch.Size([1, 3, 8, 112, 112])\n",
      "Predicted tensor(1, device='cuda:0')\n",
      "9 tensor(1, device='cuda:0')\n",
      "torch.Size([1, 3, 8, 112, 112])\n",
      "Predicted tensor(1, device='cuda:0')\n",
      "9 tensor(1, device='cuda:0')\n",
      "torch.Size([1, 3, 8, 112, 112])\n",
      "Predicted tensor(1, device='cuda:0')\n",
      "9 tensor(1, device='cuda:0')\n",
      "torch.Size([1, 3, 8, 112, 112])\n",
      "Predicted tensor(1, device='cuda:0')\n",
      "9 tensor(1, device='cuda:0')\n",
      "torch.Size([1, 3, 8, 112, 112])\n",
      "Predicted tensor(1, device='cuda:0')\n",
      "9 tensor(1, device='cuda:0')\n",
      "torch.Size([1, 3, 8, 112, 112])\n",
      "Predicted tensor(1, device='cuda:0')\n",
      "9 tensor(1, device='cuda:0')\n",
      "torch.Size([1, 3, 8, 112, 112])\n",
      "Predicted tensor(1, device='cuda:0')\n",
      "9 tensor(1, device='cuda:0')\n",
      "torch.Size([1, 3, 8, 112, 112])\n",
      "Predicted tensor(1, device='cuda:0')\n",
      "9 tensor(1, device='cuda:0')\n",
      "torch.Size([1, 3, 8, 112, 112])\n",
      "Predicted tensor(1, device='cuda:0')\n",
      "9 tensor(1, device='cuda:0')\n",
      "torch.Size([1, 3, 8, 112, 112])\n",
      "Predicted tensor(1, device='cuda:0')\n",
      "9 tensor(1, device='cuda:0')\n",
      "torch.Size([1, 3, 8, 112, 112])\n",
      "Predicted tensor(1, device='cuda:0')\n",
      "9 tensor(1, device='cuda:0')\n",
      "torch.Size([1, 3, 8, 112, 112])\n",
      "Predicted tensor(1, device='cuda:0')\n",
      "9 tensor(1, device='cuda:0')\n",
      "torch.Size([1, 3, 8, 112, 112])\n",
      "Predicted tensor(1, device='cuda:0')\n",
      "9 tensor(1, device='cuda:0')\n",
      "torch.Size([1, 3, 8, 112, 112])\n",
      "Predicted tensor(1, device='cuda:0')\n",
      "9 tensor(1, device='cuda:0')\n",
      "torch.Size([1, 3, 8, 112, 112])\n",
      "Predicted tensor(1, device='cuda:0')\n",
      "9 tensor(1, device='cuda:0')\n",
      "torch.Size([1, 3, 8, 112, 112])\n",
      "Predicted tensor(1, device='cuda:0')\n",
      "9 tensor(1, device='cuda:0')\n",
      "torch.Size([1, 3, 8, 112, 112])\n",
      "Predicted tensor(1, device='cuda:0')\n",
      "9 tensor(1, device='cuda:0')\n",
      "torch.Size([1, 3, 8, 112, 112])\n",
      "Predicted tensor(1, device='cuda:0')\n",
      "9 tensor(1, device='cuda:0')\n",
      "torch.Size([1, 3, 8, 112, 112])\n",
      "Predicted tensor(1, device='cuda:0')\n",
      "9 tensor(1, device='cuda:0')\n",
      "torch.Size([1, 3, 8, 112, 112])\n",
      "Predicted tensor(1, device='cuda:0')\n",
      "9 tensor(1, device='cuda:0')\n",
      "torch.Size([1, 3, 8, 112, 112])\n",
      "Predicted tensor(1, device='cuda:0')\n",
      "9 tensor(1, device='cuda:0')\n",
      "torch.Size([1, 3, 8, 112, 112])\n",
      "Predicted tensor(1, device='cuda:0')\n",
      "9 tensor(1, device='cuda:0')\n",
      "torch.Size([1, 3, 8, 112, 112])\n",
      "Predicted tensor(1, device='cuda:0')\n",
      "9 tensor(1, device='cuda:0')\n",
      "torch.Size([1, 3, 8, 112, 112])\n",
      "Predicted tensor(1, device='cuda:0')\n",
      "9 tensor(1, device='cuda:0')\n",
      "torch.Size([1, 3, 8, 112, 112])\n",
      "Predicted tensor(1, device='cuda:0')\n",
      "9 tensor(1, device='cuda:0')\n",
      "torch.Size([1, 3, 8, 112, 112])\n",
      "Predicted tensor(1, device='cuda:0')\n",
      "9 tensor(1, device='cuda:0')\n",
      "torch.Size([1, 3, 8, 112, 112])\n",
      "Predicted tensor(1, device='cuda:0')\n",
      "9 tensor(1, device='cuda:0')\n",
      "torch.Size([1, 3, 8, 112, 112])\n",
      "Predicted tensor(1, device='cuda:0')\n",
      "9 tensor(1, device='cuda:0')\n",
      "torch.Size([1, 3, 8, 112, 112])\n",
      "Predicted tensor(1, device='cuda:0')\n",
      "9 tensor(1, device='cuda:0')\n",
      "Percent incorrect,  1.0\n"
     ]
    }
   ],
   "source": [
    "from pytorch_grad_cam import GradCAM, ScoreCAM, GradCAMPlusPlus, AblationCAM, XGradCAM, EigenCAM\n",
    "from pytorch_grad_cam.utils.image import show_cam_on_image\n",
    "from torchvision.models import resnet50\n",
    "from torchvision.models.video import r3d_18\n",
    "import mediapy as media\n",
    "import numpy as np\n",
    "import einops\n",
    "\n",
    "target_viz = 9\n",
    "_, viz_test_dataset = get_ntuard('Data', num_clips=1, cross_subject=False, norm=False)\n",
    "num_incorrect = 0\n",
    "for idx in range(len(itemize_index_by_target[target_viz])):\n",
    "    i = itemize_index_by_target[target_viz][idx]\n",
    "    data, target = viz_test_dataset.__getitem__(i)\n",
    "\n",
    "    base_model.eval()\n",
    "    prediction = torch.argmax(base_model(input_tensor.cuda())) + 1\n",
    "    print(\"Predicted\", prediction)\n",
    "    \n",
    "    if target_viz == prediction.item():\n",
    "\n",
    "        data = einops.rearrange(data, 'b c f h w -> (b f) h w c')\n",
    "        data = data.cpu().numpy()\n",
    "        data = data.astype(np.uint8)\n",
    "\n",
    "        media.show_video(data, fps=2) \n",
    "\n",
    "        target_layer = model.layer4[-1]\n",
    "        input_tensor, _ = test_dataset.__getitem__(i)\n",
    "        input_tensor = einops.rearrange(input_tensor, 'b c f h w -> b c f h w')\n",
    "        # Create an input tensor image for your model..\n",
    "        # Note: input_tensor can be a batch tensor with several images!\n",
    "\n",
    "        # Construct the CAM object once, and then re-use it on many images:\n",
    "        if contrastive:\n",
    "            target_layer = base_model.base_model.layer4\n",
    "        else:\n",
    "            target_layer = base_model.layer4\n",
    "\n",
    "        cam = GradCAM(model=base_model, target_layer=target_layer, use_cuda=True)\n",
    "\n",
    "        # If target_category is None, the highest scoring category\n",
    "        # will be used for every image in the batch.\n",
    "        # target_category can also be an integer, or a list of different integers\n",
    "        # for every image in the batch.\n",
    "        target_category = target_viz\n",
    "        # You can also pass aug_smooth=True and eigen_smooth=True, to apply smoothing.\n",
    "        grayscale_cam = cam(input_tensor=input_tensor, target_category=target_category)\n",
    "\n",
    "        # In this example grayscale_cam has only one image in the batch:\n",
    "        #grayscale_cam = grayscale_cam[0, :]\n",
    "        #visualization = show_cam_on_image(data, grayscale_cam)\n",
    "\n",
    "\n",
    "        grayscale_cam=(grayscale_cam*255).astype(np.uint8).reshape(112,112,7)\n",
    "        grayscale_cam = einops.rearrange(grayscale_cam, 'h w f -> f h w')\n",
    "        media.show_video(grayscale_cam, fps=2) \n",
    "        media.show_video(visualize_grad_cam(data, grayscale_cam), fps=2)\n",
    "        continue\n",
    "    else:\n",
    "        print(target_viz, prediction)\n",
    "        num_incorrect+=1\n",
    "print(\"Percent incorrect, \", num_incorrect/len(itemize_index_by_target[target_viz]))"
   ]
  },
  {
   "cell_type": "code",
   "execution_count": null,
   "metadata": {},
   "outputs": [],
   "source": []
  }
 ],
 "metadata": {
  "kernelspec": {
   "display_name": "Python 3",
   "language": "python",
   "name": "python3"
  },
  "language_info": {
   "codemirror_mode": {
    "name": "ipython",
    "version": 3
   },
   "file_extension": ".py",
   "mimetype": "text/x-python",
   "name": "python",
   "nbconvert_exporter": "python",
   "pygments_lexer": "ipython3",
   "version": "3.8.5"
  }
 },
 "nbformat": 4,
 "nbformat_minor": 4
}
